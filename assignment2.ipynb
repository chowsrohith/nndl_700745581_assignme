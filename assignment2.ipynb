{
 "cells": [
  {
   "cell_type": "code",
   "execution_count": 1,
   "id": "28567c92-1b8a-4f71-a61c-615260230609",
   "metadata": {},
   "outputs": [
    {
     "name": "stdin",
     "output_type": "stream",
     "text": [
      "Enter your first name:  alekhya\n",
      "Enter your last name:  annam\n"
     ]
    },
    {
     "name": "stdout",
     "output_type": "stream",
     "text": [
      "Full Name: alekhya annam\n",
      "Every Other Character: aehaanm\n"
     ]
    }
   ],
   "source": [
    "def fullname(first_name, last_name):\n",
    "    full_name = first_name + \" \" + last_name\n",
    "    return full_name\n",
    "\n",
    "def string_alternative(full_name):\n",
    "    return full_name[::2]\n",
    "\n",
    "def main():\n",
    "    # Take user input for first name and last name\n",
    "    first_name = input(\"Enter your first name: \")\n",
    "    last_name = input(\"Enter your last name: \")\n",
    "\n",
    "    # Get the full name\n",
    "    full_name = fullname(first_name, last_name)\n",
    "\n",
    "    # Output the full name\n",
    "    print(\"Full Name:\", full_name)\n",
    "\n",
    "    # Output every other character in the full name\n",
    "    result = string_alternative(full_name)\n",
    "    print(\"Every Other Character:\", result)\n",
    "\n",
    "# Call the main function to run the program\n",
    "if __name__ == \"__main__\":\n",
    "    main()"
   ]
  },
  {
   "cell_type": "code",
   "execution_count": 3,
   "id": "0d4b233c-ad5c-4487-8cb2-5ffa4342ac30",
   "metadata": {},
   "outputs": [
    {
     "name": "stdout",
     "output_type": "stream",
     "text": [
      "Line 1: Word Count - 5\n"
     ]
    }
   ],
   "source": [
    "def count_word_in_line(line):\n",
    "    words = line.split()\n",
    "    return len(words)\n",
    "\n",
    "def main():\n",
    "    # Read input from file\n",
    "    with open(\"inputt.txt\", \"r\") as file:\n",
    "        lines = file.readlines()\n",
    "\n",
    "    # Count word occurrences for each line\n",
    "    word_counts = [count_word_in_line(line) for line in lines]\n",
    "\n",
    "    # Print the word counts for each line\n",
    "    for i, count in enumerate(word_counts):\n",
    "        print(f\"Line {i + 1}: Word Count - {count}\")\n",
    "\n",
    "    # Store the output in output.txt file\n",
    "    with open(\"output.txt\", \"w\") as output_file:\n",
    "        for i, count in enumerate(word_counts):\n",
    "            output_file.write(f\"Line {i + 1}: Word Count - {count}\\n\")\n",
    "\n",
    "if __name__ == \"__main__\":\n",
    "    main()"
   ]
  },
  {
   "cell_type": "code",
   "execution_count": null,
   "id": "9c48295e-f965-4968-b04c-d27007f1ad61",
   "metadata": {},
   "outputs": [
    {
     "name": "stdin",
     "output_type": "stream",
     "text": [
      "Enter the number of customers:  4\n",
      "Enter height (in inches) for customer 1:  155\n",
      "Enter height (in inches) for customer 2:  150\n",
      "Enter height (in inches) for customer 3:  148\n",
      "Enter height (in inches) for customer 4:  140\n"
     ]
    },
    {
     "name": "stdout",
     "output_type": "stream",
     "text": [
      "Converted Heights (Nested Loop): [393.7, 381.0, 375.92, 355.6]\n"
     ]
    }
   ],
   "source": [
    "def inches_to_centimeters(height_inches):\n",
    "    # Conversion factor: 1 inch = 2.54 centimeters\n",
    "    return height_inches * 2.54\n",
    "\n",
    "def nested_loop_conversion():\n",
    "    # Using nested interactive loop\n",
    "    height_list = []\n",
    "    converted_heights = []\n",
    "\n",
    "    n = int(input(\"Enter the number of customers: \"))\n",
    "\n",
    "    for i in range(n):\n",
    "        height = float(input(f\"Enter height (in inches) for customer {i + 1}: \"))\n",
    "        height_list.append(height)\n",
    "        converted_height = inches_to_centimeters(height)\n",
    "        converted_heights.append(converted_height)\n",
    "\n",
    "    return converted_heights\n",
    "\n",
    "def list_comprehension_conversion():\n",
    "    # Using list comprehensions\n",
    "    n = int(input(\"Enter the number of customers: \"))\n",
    "    height_list = [float(input(f\"Enter height (in inches) for customer {i + 1}: \")) for i in range(n)]\n",
    "    converted_heights = [inches_to_centimeters(height) for height in height_list]\n",
    "\n",
    "    return converted_heights\n",
    "\n",
    "def main():\n",
    "    # Using nested interactive loop\n",
    "    result_nested = nested_loop_conversion()\n",
    "    print(\"Converted Heights (Nested Loop):\", result_nested)\n",
    "\n",
    "    # Using list comprehensions\n",
    "    result_comprehension = list_comprehension_conversion()\n",
    "    print(\"Converted Heights (List Comprehension):\", result_comprehension)\n",
    "\n",
    "if __name__ == \"__main__\":\n",
    "    main()"
   ]
  },
  {
   "cell_type": "code",
   "execution_count": null,
   "id": "011163f6-63dc-4a0d-aea3-971e6b263bba",
   "metadata": {},
   "outputs": [],
   "source": []
  }
 ],
 "metadata": {
  "kernelspec": {
   "display_name": "Python 3 (ipykernel)",
   "language": "python",
   "name": "python3"
  },
  "language_info": {
   "codemirror_mode": {
    "name": "ipython",
    "version": 3
   },
   "file_extension": ".py",
   "mimetype": "text/x-python",
   "name": "python",
   "nbconvert_exporter": "python",
   "pygments_lexer": "ipython3",
   "version": "3.12.1"
  }
 },
 "nbformat": 4,
 "nbformat_minor": 5
}
